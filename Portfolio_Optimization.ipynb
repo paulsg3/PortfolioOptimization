{
  "nbformat": 4,
  "nbformat_minor": 0,
  "metadata": {
    "colab": {
      "name": "Portfolio Optimization",
      "provenance": []
    },
    "kernelspec": {
      "name": "python3",
      "display_name": "Python 3"
    }
  },
  "cells": [
    {
      "cell_type": "code",
      "metadata": {
        "colab": {
          "base_uri": "https://localhost:8080/",
          "height": 35
        },
        "id": "4giT2biLLtJ3",
        "outputId": "ed9a1446-5c23-467e-c741-2787c8f70e1e"
      },
      "source": [
        "'''This program attempts to optimize a users portfolio using the Efficient Frontier'''"
      ],
      "execution_count": null,
      "outputs": [
        {
          "output_type": "execute_result",
          "data": {
            "application/vnd.google.colaboratory.intrinsic+json": {
              "type": "string"
            },
            "text/plain": [
              "'This program attempts to optimize a users portfolio using the Efficient Frontier'"
            ]
          },
          "metadata": {
            "tags": []
          },
          "execution_count": 1
        }
      ]
    },
    {
      "cell_type": "code",
      "metadata": {
        "id": "gq-0xQivTeKk"
      },
      "source": [
        "#Import the python libraries\n",
        "from pandas_datareader import data as web\n",
        "import pandas as pd\n",
        "import numpy as np\n",
        "from datetime import datetime\n",
        "import matplotlib.pyplot as plt\n",
        "plt.style.use('fivethirtyeight')"
      ],
      "execution_count": null,
      "outputs": []
    },
    {
      "cell_type": "code",
      "metadata": {
        "id": "lpDfxMVVT3Ya"
      },
      "source": [
        "#Get the stock tickers in the portfolio \n",
        "assets = ['AMD','NFLX','AAPL','GOOG']"
      ],
      "execution_count": null,
      "outputs": []
    },
    {
      "cell_type": "code",
      "metadata": {
        "id": "NT78v7UbULA4"
      },
      "source": [
        "#Assign weights to the stocks. \n",
        "weights = np.array([0.25,0.25,0.25,0.25])"
      ],
      "execution_count": null,
      "outputs": []
    },
    {
      "cell_type": "code",
      "metadata": {
        "id": "narpUgKsUdYS"
      },
      "source": [
        "# Get the stock/ portfolio starting date\n",
        "stockStartDate = '2015-01-01'"
      ],
      "execution_count": null,
      "outputs": []
    },
    {
      "cell_type": "code",
      "metadata": {
        "colab": {
          "base_uri": "https://localhost:8080/",
          "height": 35
        },
        "id": "3gqJ5na-Uo3n",
        "outputId": "da3af5cb-bf35-4c13-ecb9-61f2b52f0280"
      },
      "source": [
        "# Get the stocks' ending date (today)\n",
        "today = datetime.today().strftime('%Y-%m-%d')\n",
        "today"
      ],
      "execution_count": null,
      "outputs": [
        {
          "output_type": "execute_result",
          "data": {
            "application/vnd.google.colaboratory.intrinsic+json": {
              "type": "string"
            },
            "text/plain": [
              "'2021-02-15'"
            ]
          },
          "metadata": {
            "tags": []
          },
          "execution_count": 7
        }
      ]
    },
    {
      "cell_type": "code",
      "metadata": {
        "id": "24a9qg3TUz58"
      },
      "source": [
        "# Create a dataframe to store the adjusted close price of the stocks\n",
        "df = pd.DataFrame()\n",
        "\n",
        "# Store the adjusted close price of the sock into the df\n",
        "for stock in assets:\n",
        "  df[stock] = web.DataReader(stock,data_source='yahoo',start=stockStartDate,end=today)['Adj Close']"
      ],
      "execution_count": null,
      "outputs": []
    },
    {
      "cell_type": "code",
      "metadata": {
        "colab": {
          "base_uri": "https://localhost:8080/",
          "height": 450
        },
        "id": "jrrB7HUqVHYY",
        "outputId": "70e3b4cb-07af-4eb5-a975-8d8b40593b2c"
      },
      "source": [
        "# show df\n",
        "df"
      ],
      "execution_count": null,
      "outputs": [
        {
          "output_type": "execute_result",
          "data": {
            "text/html": [
              "<div>\n",
              "<style scoped>\n",
              "    .dataframe tbody tr th:only-of-type {\n",
              "        vertical-align: middle;\n",
              "    }\n",
              "\n",
              "    .dataframe tbody tr th {\n",
              "        vertical-align: top;\n",
              "    }\n",
              "\n",
              "    .dataframe thead th {\n",
              "        text-align: right;\n",
              "    }\n",
              "</style>\n",
              "<table border=\"1\" class=\"dataframe\">\n",
              "  <thead>\n",
              "    <tr style=\"text-align: right;\">\n",
              "      <th></th>\n",
              "      <th>AMD</th>\n",
              "      <th>NFLX</th>\n",
              "      <th>AAPL</th>\n",
              "      <th>GOOG</th>\n",
              "    </tr>\n",
              "    <tr>\n",
              "      <th>Date</th>\n",
              "      <th></th>\n",
              "      <th></th>\n",
              "      <th></th>\n",
              "      <th></th>\n",
              "    </tr>\n",
              "  </thead>\n",
              "  <tbody>\n",
              "    <tr>\n",
              "      <th>2015-01-02</th>\n",
              "      <td>2.670000</td>\n",
              "      <td>49.848572</td>\n",
              "      <td>24.861401</td>\n",
              "      <td>523.373108</td>\n",
              "    </tr>\n",
              "    <tr>\n",
              "      <th>2015-01-05</th>\n",
              "      <td>2.660000</td>\n",
              "      <td>47.311428</td>\n",
              "      <td>24.161013</td>\n",
              "      <td>512.463013</td>\n",
              "    </tr>\n",
              "    <tr>\n",
              "      <th>2015-01-06</th>\n",
              "      <td>2.630000</td>\n",
              "      <td>46.501431</td>\n",
              "      <td>24.163294</td>\n",
              "      <td>500.585632</td>\n",
              "    </tr>\n",
              "    <tr>\n",
              "      <th>2015-01-07</th>\n",
              "      <td>2.580000</td>\n",
              "      <td>46.742859</td>\n",
              "      <td>24.502111</td>\n",
              "      <td>499.727997</td>\n",
              "    </tr>\n",
              "    <tr>\n",
              "      <th>2015-01-08</th>\n",
              "      <td>2.610000</td>\n",
              "      <td>47.779999</td>\n",
              "      <td>25.443539</td>\n",
              "      <td>501.303680</td>\n",
              "    </tr>\n",
              "    <tr>\n",
              "      <th>...</th>\n",
              "      <td>...</td>\n",
              "      <td>...</td>\n",
              "      <td>...</td>\n",
              "      <td>...</td>\n",
              "    </tr>\n",
              "    <tr>\n",
              "      <th>2021-02-08</th>\n",
              "      <td>91.470001</td>\n",
              "      <td>547.919983</td>\n",
              "      <td>136.910004</td>\n",
              "      <td>2092.909912</td>\n",
              "    </tr>\n",
              "    <tr>\n",
              "      <th>2021-02-09</th>\n",
              "      <td>90.910004</td>\n",
              "      <td>559.070007</td>\n",
              "      <td>136.009995</td>\n",
              "      <td>2083.510010</td>\n",
              "    </tr>\n",
              "    <tr>\n",
              "      <th>2021-02-10</th>\n",
              "      <td>92.349998</td>\n",
              "      <td>563.590027</td>\n",
              "      <td>135.389999</td>\n",
              "      <td>2095.379883</td>\n",
              "    </tr>\n",
              "    <tr>\n",
              "      <th>2021-02-11</th>\n",
              "      <td>92.660004</td>\n",
              "      <td>557.590027</td>\n",
              "      <td>135.130005</td>\n",
              "      <td>2095.889893</td>\n",
              "    </tr>\n",
              "    <tr>\n",
              "      <th>2021-02-12</th>\n",
              "      <td>93.769997</td>\n",
              "      <td>556.520020</td>\n",
              "      <td>135.369995</td>\n",
              "      <td>2104.110107</td>\n",
              "    </tr>\n",
              "  </tbody>\n",
              "</table>\n",
              "<p>1540 rows × 4 columns</p>\n",
              "</div>"
            ],
            "text/plain": [
              "                  AMD        NFLX        AAPL         GOOG\n",
              "Date                                                      \n",
              "2015-01-02   2.670000   49.848572   24.861401   523.373108\n",
              "2015-01-05   2.660000   47.311428   24.161013   512.463013\n",
              "2015-01-06   2.630000   46.501431   24.163294   500.585632\n",
              "2015-01-07   2.580000   46.742859   24.502111   499.727997\n",
              "2015-01-08   2.610000   47.779999   25.443539   501.303680\n",
              "...               ...         ...         ...          ...\n",
              "2021-02-08  91.470001  547.919983  136.910004  2092.909912\n",
              "2021-02-09  90.910004  559.070007  136.009995  2083.510010\n",
              "2021-02-10  92.349998  563.590027  135.389999  2095.379883\n",
              "2021-02-11  92.660004  557.590027  135.130005  2095.889893\n",
              "2021-02-12  93.769997  556.520020  135.369995  2104.110107\n",
              "\n",
              "[1540 rows x 4 columns]"
            ]
          },
          "metadata": {
            "tags": []
          },
          "execution_count": 9
        }
      ]
    },
    {
      "cell_type": "code",
      "metadata": {
        "colab": {
          "base_uri": "https://localhost:8080/",
          "height": 325
        },
        "id": "B8BHGSJEVJi3",
        "outputId": "f24796ad-b2c6-441d-88e5-85b3bc3a7693"
      },
      "source": [
        "# Visually show the stock/ portfolio\n",
        "title = 'Portfolio Adj. Close Price History'\n",
        "\n",
        "# Get the stocks\n",
        "my_stocks = df\n",
        "\n",
        "# Create and plot the graph\n",
        "for c in my_stocks.columns.values:\n",
        "  plt.plot(my_stocks[c],label=c)\n",
        "\n",
        "plt.title(title)\n",
        "plt.xlabel('Date',fontsize=18)\n",
        "plt.ylabel('Adj. Price USD ($)',fontsize=18)\n",
        "plt.legend(my_stocks.columns.values,loc='upper left')\n",
        "plt.show()"
      ],
      "execution_count": null,
      "outputs": [
        {
          "output_type": "display_data",
          "data": {
            "image/png": "[encoded data removed]",
            "text/plain": [
              "<Figure size 432x288 with 1 Axes>"
            ]
          },
          "metadata": {
            "tags": []
          }
        }
      ]
    },
    {
      "cell_type": "code",
      "metadata": {
        "colab": {
          "base_uri": "https://localhost:8080/",
          "height": 450
        },
        "id": "p2Gt7XZvVvqV",
        "outputId": "0baa2c53-e1b1-41db-8f57-48fb298eef0a"
      },
      "source": [
        "# show the daily simple return\n",
        "returns = df.pct_change()\n",
        "returns"
      ],
      "execution_count": null,
      "outputs": [
        {
          "output_type": "execute_result",
          "data": {
            "text/html": [
              "<div>\n",
              "<style scoped>\n",
              "    .dataframe tbody tr th:only-of-type {\n",
              "        vertical-align: middle;\n",
              "    }\n",
              "\n",
              "    .dataframe tbody tr th {\n",
              "        vertical-align: top;\n",
              "    }\n",
              "\n",
              "    .dataframe thead th {\n",
              "        text-align: right;\n",
              "    }\n",
              "</style>\n",
              "<table border=\"1\" class=\"dataframe\">\n",
              "  <thead>\n",
              "    <tr style=\"text-align: right;\">\n",
              "      <th></th>\n",
              "      <th>AMD</th>\n",
              "      <th>NFLX</th>\n",
              "      <th>AAPL</th>\n",
              "      <th>GOOG</th>\n",
              "    </tr>\n",
              "    <tr>\n",
              "      <th>Date</th>\n",
              "      <th></th>\n",
              "      <th></th>\n",
              "      <th></th>\n",
              "      <th></th>\n",
              "    </tr>\n",
              "  </thead>\n",
              "  <tbody>\n",
              "    <tr>\n",
              "      <th>2015-01-02</th>\n",
              "      <td>NaN</td>\n",
              "      <td>NaN</td>\n",
              "      <td>NaN</td>\n",
              "      <td>NaN</td>\n",
              "    </tr>\n",
              "    <tr>\n",
              "      <th>2015-01-05</th>\n",
              "      <td>-0.003745</td>\n",
              "      <td>-0.050897</td>\n",
              "      <td>-0.028172</td>\n",
              "      <td>-0.020846</td>\n",
              "    </tr>\n",
              "    <tr>\n",
              "      <th>2015-01-06</th>\n",
              "      <td>-0.011278</td>\n",
              "      <td>-0.017121</td>\n",
              "      <td>0.000094</td>\n",
              "      <td>-0.023177</td>\n",
              "    </tr>\n",
              "    <tr>\n",
              "      <th>2015-01-07</th>\n",
              "      <td>-0.019011</td>\n",
              "      <td>0.005192</td>\n",
              "      <td>0.014022</td>\n",
              "      <td>-0.001713</td>\n",
              "    </tr>\n",
              "    <tr>\n",
              "      <th>2015-01-08</th>\n",
              "      <td>0.011628</td>\n",
              "      <td>0.022188</td>\n",
              "      <td>0.038422</td>\n",
              "      <td>0.003153</td>\n",
              "    </tr>\n",
              "    <tr>\n",
              "      <th>...</th>\n",
              "      <td>...</td>\n",
              "      <td>...</td>\n",
              "      <td>...</td>\n",
              "      <td>...</td>\n",
              "    </tr>\n",
              "    <tr>\n",
              "      <th>2021-02-08</th>\n",
              "      <td>0.040614</td>\n",
              "      <td>-0.005211</td>\n",
              "      <td>0.001097</td>\n",
              "      <td>-0.002426</td>\n",
              "    </tr>\n",
              "    <tr>\n",
              "      <th>2021-02-09</th>\n",
              "      <td>-0.006122</td>\n",
              "      <td>0.020350</td>\n",
              "      <td>-0.006574</td>\n",
              "      <td>-0.004491</td>\n",
              "    </tr>\n",
              "    <tr>\n",
              "      <th>2021-02-10</th>\n",
              "      <td>0.015840</td>\n",
              "      <td>0.008085</td>\n",
              "      <td>-0.004558</td>\n",
              "      <td>0.005697</td>\n",
              "    </tr>\n",
              "    <tr>\n",
              "      <th>2021-02-11</th>\n",
              "      <td>0.003357</td>\n",
              "      <td>-0.010646</td>\n",
              "      <td>-0.001920</td>\n",
              "      <td>0.000243</td>\n",
              "    </tr>\n",
              "    <tr>\n",
              "      <th>2021-02-12</th>\n",
              "      <td>0.011979</td>\n",
              "      <td>-0.001919</td>\n",
              "      <td>0.001776</td>\n",
              "      <td>0.003922</td>\n",
              "    </tr>\n",
              "  </tbody>\n",
              "</table>\n",
              "<p>1540 rows × 4 columns</p>\n",
              "</div>"
            ],
            "text/plain": [
              "                 AMD      NFLX      AAPL      GOOG\n",
              "Date                                              \n",
              "2015-01-02       NaN       NaN       NaN       NaN\n",
              "2015-01-05 -0.003745 -0.050897 -0.028172 -0.020846\n",
              "2015-01-06 -0.011278 -0.017121  0.000094 -0.023177\n",
              "2015-01-07 -0.019011  0.005192  0.014022 -0.001713\n",
              "2015-01-08  0.011628  0.022188  0.038422  0.003153\n",
              "...              ...       ...       ...       ...\n",
              "2021-02-08  0.040614 -0.005211  0.001097 -0.002426\n",
              "2021-02-09 -0.006122  0.020350 -0.006574 -0.004491\n",
              "2021-02-10  0.015840  0.008085 -0.004558  0.005697\n",
              "2021-02-11  0.003357 -0.010646 -0.001920  0.000243\n",
              "2021-02-12  0.011979 -0.001919  0.001776  0.003922\n",
              "\n",
              "[1540 rows x 4 columns]"
            ]
          },
          "metadata": {
            "tags": []
          },
          "execution_count": 11
        }
      ]
    },
    {
      "cell_type": "code",
      "metadata": {
        "colab": {
          "base_uri": "https://localhost:8080/",
          "height": 173
        },
        "id": "qALqZNVQWCe9",
        "outputId": "d44e0a60-aa2e-4847-f0cf-eb3d3079e8e5"
      },
      "source": [
        "# Create and show the annualized covariance matrix\n",
        "cov_matrix_annual = returns.cov()*252\n",
        "cov_matrix_annual"
      ],
      "execution_count": null,
      "outputs": [
        {
          "output_type": "execute_result",
          "data": {
            "text/html": [
              "<div>\n",
              "<style scoped>\n",
              "    .dataframe tbody tr th:only-of-type {\n",
              "        vertical-align: middle;\n",
              "    }\n",
              "\n",
              "    .dataframe tbody tr th {\n",
              "        vertical-align: top;\n",
              "    }\n",
              "\n",
              "    .dataframe thead th {\n",
              "        text-align: right;\n",
              "    }\n",
              "</style>\n",
              "<table border=\"1\" class=\"dataframe\">\n",
              "  <thead>\n",
              "    <tr style=\"text-align: right;\">\n",
              "      <th></th>\n",
              "      <th>AMD</th>\n",
              "      <th>NFLX</th>\n",
              "      <th>AAPL</th>\n",
              "      <th>GOOG</th>\n",
              "    </tr>\n",
              "  </thead>\n",
              "  <tbody>\n",
              "    <tr>\n",
              "      <th>AMD</th>\n",
              "      <td>0.400264</td>\n",
              "      <td>0.079733</td>\n",
              "      <td>0.069470</td>\n",
              "      <td>0.052329</td>\n",
              "    </tr>\n",
              "    <tr>\n",
              "      <th>NFLX</th>\n",
              "      <td>0.079733</td>\n",
              "      <td>0.183637</td>\n",
              "      <td>0.052318</td>\n",
              "      <td>0.055783</td>\n",
              "    </tr>\n",
              "    <tr>\n",
              "      <th>AAPL</th>\n",
              "      <td>0.069470</td>\n",
              "      <td>0.052318</td>\n",
              "      <td>0.088055</td>\n",
              "      <td>0.048199</td>\n",
              "    </tr>\n",
              "    <tr>\n",
              "      <th>GOOG</th>\n",
              "      <td>0.052329</td>\n",
              "      <td>0.055783</td>\n",
              "      <td>0.048199</td>\n",
              "      <td>0.073669</td>\n",
              "    </tr>\n",
              "  </tbody>\n",
              "</table>\n",
              "</div>"
            ],
            "text/plain": [
              "           AMD      NFLX      AAPL      GOOG\n",
              "AMD   0.400264  0.079733  0.069470  0.052329\n",
              "NFLX  0.079733  0.183637  0.052318  0.055783\n",
              "AAPL  0.069470  0.052318  0.088055  0.048199\n",
              "GOOG  0.052329  0.055783  0.048199  0.073669"
            ]
          },
          "metadata": {
            "tags": []
          },
          "execution_count": 12
        }
      ]
    },
    {
      "cell_type": "code",
      "metadata": {
        "colab": {
          "base_uri": "https://localhost:8080/"
        },
        "id": "M0auJwMCWZ3r",
        "outputId": "b0f8c845-04f3-4ea2-9641-3e3196001303"
      },
      "source": [
        "# Calculate the portfolio variance\n",
        "port_variance = np.dot(weights.T,np.dot(cov_matrix_annual,weights))\n",
        "port_variance"
      ],
      "execution_count": null,
      "outputs": [
        {
          "output_type": "execute_result",
          "data": {
            "text/plain": [
              "0.09133050611264201"
            ]
          },
          "metadata": {
            "tags": []
          },
          "execution_count": 13
        }
      ]
    },
    {
      "cell_type": "code",
      "metadata": {
        "colab": {
          "base_uri": "https://localhost:8080/"
        },
        "id": "iDds_qo5WvSx",
        "outputId": "d287a47e-202d-4ab4-c34e-d8606bf02bf3"
      },
      "source": [
        "# Calculate the portfolio volatility aka standard deviation\n",
        "port_volatility = np.sqrt(port_variance)\n",
        "port_volatility"
      ],
      "execution_count": null,
      "outputs": [
        {
          "output_type": "execute_result",
          "data": {
            "text/plain": [
              "0.3022093746273302"
            ]
          },
          "metadata": {
            "tags": []
          },
          "execution_count": 14
        }
      ]
    },
    {
      "cell_type": "code",
      "metadata": {
        "colab": {
          "base_uri": "https://localhost:8080/"
        },
        "id": "1z5zCHTPW7-h",
        "outputId": "c7312e3b-ccfd-4348-8ec5-abc52f8768d9"
      },
      "source": [
        "# Calculate the annual portfolio return\n",
        "portfolio_simple_annual_return = np.sum(returns.mean()*weights)*252\n",
        "portfolio_simple_annual_return"
      ],
      "execution_count": null,
      "outputs": [
        {
          "output_type": "execute_result",
          "data": {
            "text/plain": [
              "0.46236210081686907"
            ]
          },
          "metadata": {
            "tags": []
          },
          "execution_count": 15
        }
      ]
    },
    {
      "cell_type": "code",
      "metadata": {
        "colab": {
          "base_uri": "https://localhost:8080/"
        },
        "id": "dywuLgYCXOrL",
        "outputId": "d59f9e37-0e6a-4285-f419-658967f82997"
      },
      "source": [
        "# Sow the expected annual return, volatility (risk), and variance\n",
        "percent_var = str(round(port_variance,2)*100)+'%'\n",
        "percent_vola = str(round(port_volatility,2)*100)+'%'\n",
        "percent_ret = str(round(portfolio_simple_annual_return,2)*100)+'%'\n",
        "\n",
        "print('Expected annual return: '+percent_ret)\n",
        "print('Annual volatility/ risk: '+percent_vola)\n",
        "print('Annual variance: '+percent_var)"
      ],
      "execution_count": null,
      "outputs": [
        {
          "output_type": "stream",
          "text": [
            "Expected annual return: 46.0%\n",
            "Annual volatility/ risk: 30.0%\n",
            "Annual variance: 9.0%\n"
          ],
          "name": "stdout"
        }
      ]
    },
    {
      "cell_type": "code",
      "metadata": {
        "colab": {
          "base_uri": "https://localhost:8080/"
        },
        "id": "A-72dnkBX75O",
        "outputId": "9dd753b4-d3a2-4bda-eb48-649cd9132303"
      },
      "source": [
        "pip install PyPortfolioOpt"
      ],
      "execution_count": null,
      "outputs": [
        {
          "output_type": "stream",
          "text": [
            "Requirement already satisfied: PyPortfolioOpt in /usr/local/lib/python3.6/dist-packages (1.4.0)\n",
            "Requirement already satisfied: pandas>=0.19 in /usr/local/lib/python3.6/dist-packages (from PyPortfolioOpt) (1.1.5)\n",
            "Requirement already satisfied: cvxopt!=1.2.5.post1,<2.0,>=1.2 in /usr/local/lib/python3.6/dist-packages (from PyPortfolioOpt) (1.2.5)\n",
            "Requirement already satisfied: cvxpy<2.0.0,>=1.1.10 in /usr/local/lib/python3.6/dist-packages (from PyPortfolioOpt) (1.1.10)\n",
            "Requirement already satisfied: numpy<2.0,>=1.12 in /usr/local/lib/python3.6/dist-packages (from PyPortfolioOpt) (1.19.5)\n",
            "Requirement already satisfied: scipy<2.0,>=1.3 in /usr/local/lib/python3.6/dist-packages (from PyPortfolioOpt) (1.4.1)\n",
            "Requirement already satisfied: pytz>=2017.2 in /usr/local/lib/python3.6/dist-packages (from pandas>=0.19->PyPortfolioOpt) (2018.9)\n",
            "Requirement already satisfied: python-dateutil>=2.7.3 in /usr/local/lib/python3.6/dist-packages (from pandas>=0.19->PyPortfolioOpt) (2.8.1)\n",
            "Requirement already satisfied: ecos>=2 in /usr/local/lib/python3.6/dist-packages (from cvxpy<2.0.0,>=1.1.10->PyPortfolioOpt) (2.0.7.post1)\n",
            "Requirement already satisfied: scs>=1.1.6 in /usr/local/lib/python3.6/dist-packages (from cvxpy<2.0.0,>=1.1.10->PyPortfolioOpt) (2.1.2)\n",
            "Requirement already satisfied: osqp>=0.4.1 in /usr/local/lib/python3.6/dist-packages (from cvxpy<2.0.0,>=1.1.10->PyPortfolioOpt) (0.6.2.post0)\n",
            "Requirement already satisfied: six>=1.5 in /usr/local/lib/python3.6/dist-packages (from python-dateutil>=2.7.3->pandas>=0.19->PyPortfolioOpt) (1.15.0)\n",
            "Requirement already satisfied: qdldl in /usr/local/lib/python3.6/dist-packages (from osqp>=0.4.1->cvxpy<2.0.0,>=1.1.10->PyPortfolioOpt) (0.1.5.post0)\n"
          ],
          "name": "stdout"
        }
      ]
    },
    {
      "cell_type": "code",
      "metadata": {
        "id": "hmRPs_55YIs6"
      },
      "source": [
        "from pypfopt.efficient_frontier import EfficientFrontier\n",
        "from pypfopt import risk_models\n",
        "from pypfopt import expected_returns\n",
        "from pypfopt import plotting"
      ],
      "execution_count": null,
      "outputs": []
    },
    {
      "cell_type": "code",
      "metadata": {
        "colab": {
          "base_uri": "https://localhost:8080/"
        },
        "id": "dNDhANtoYdV_",
        "outputId": "36a520d4-e3b3-421e-b91c-ce991a3f3fbf"
      },
      "source": [
        "# Portfolio Optimization\n",
        "\n",
        "# Calculate the expected returns and the annualized sample covariance matrix of asset returns\n",
        "mu = expected_returns.mean_historical_return(df)\n",
        "S = risk_models.sample_cov(df)\n",
        "\n",
        "# Optimize for maximum sharpe ratio\n",
        "ef = EfficientFrontier(mu,S,weight_bounds=(None,None))\n",
        "ef.add_constraint(lambda w: w[0]+w[1]+w[2]+w[3] == 1)\n",
        "weights = ef.max_sharpe()\n",
        "cleaned_weights = ef.clean_weights() \n",
        "print(cleaned_weights)\n",
        "ef.portfolio_performance(verbose=True)"
      ],
      "execution_count": null,
      "outputs": [
        {
          "output_type": "stream",
          "text": [
            "OrderedDict([('AMD', 0.31085), ('NFLX', 0.33717), ('AAPL', 0.29553), ('GOOG', 0.05646)])\n",
            "Expected annual return: 51.8%\n",
            "Annual volatility: 33.6%\n",
            "Sharpe Ratio: 1.48\n"
          ],
          "name": "stdout"
        },
        {
          "output_type": "execute_result",
          "data": {
            "text/plain": [
              "(0.5181620082441062, 0.3360787917959159, 1.4822774313786973)"
            ]
          },
          "metadata": {
            "tags": []
          },
          "execution_count": 19
        }
      ]
    },
    {
      "cell_type": "code",
      "metadata": {
        "colab": {
          "base_uri": "https://localhost:8080/"
        },
        "id": "mTK3C7pWauTf",
        "outputId": "8bb1deac-9db9-488f-ee9f-d3ac0810bc47"
      },
      "source": [
        "# Get the discrete allocation of each share per stock\n",
        "from pypfopt.discrete_allocation import DiscreteAllocation, get_latest_prices\n",
        "\n",
        "latest_prices = get_latest_prices(df)\n",
        "weights = cleaned_weights\n",
        "da = DiscreteAllocation(weights,latest_prices,total_portfolio_value = 50000)\n",
        "\n",
        "allocation,leftover = da.lp_portfolio()\n",
        "print('Discrete allocation: ',allocation)\n",
        "print('Funds remaining: ${:.2f}'.format(leftover))"
      ],
      "execution_count": null,
      "outputs": [
        {
          "output_type": "stream",
          "text": [
            "Discrete allocation:  {'AMD': 166, 'NFLX': 31, 'AAPL': 110, 'GOOG': 1}\n",
            "Funds remaining: $187.25\n"
          ],
          "name": "stdout"
        }
      ]
    },
    {
      "cell_type": "code",
      "metadata": {
        "id": "BMTZL04BbS62",
        "colab": {
          "base_uri": "https://localhost:8080/",
          "height": 374
        },
        "outputId": "19ffc0e2-c31e-4159-884b-b26d19ba1ee7"
      },
      "source": [
        "# Portfolio Optimization\n",
        "\n",
        "# Calculate the expected returns and the annualized sample covariance matrix of asset returns\n",
        "mu = expected_returns.mean_historical_return(df)\n",
        "S = risk_models.sample_cov(df)\n",
        "\n",
        "# Optimize for maximum sharpe ratio\n",
        "ef = EfficientFrontier(mu,S,weight_bounds=(None,None))\n",
        "ef.add_constraint(lambda w: w[0]+w[1]+w[2]+w[3] == 1)\n",
        "plotting.plot_efficient_frontier(ef)\n",
        "weights = ef.max_sharpe()\n",
        "cleaned_weights = ef.clean_weights() \n",
        "print(cleaned_weights)\n",
        "ef.portfolio_performance(verbose=True)\n",
        "\n",
        "\n"
      ],
      "execution_count": null,
      "outputs": [
        {
          "output_type": "stream",
          "text": [
            "OrderedDict([('AMD', 0.31085), ('NFLX', 0.33717), ('AAPL', 0.29553), ('GOOG', 0.05646)])\n",
            "Expected annual return: 51.8%\n",
            "Annual volatility: 33.6%\n",
            "Sharpe Ratio: 1.48\n"
          ],
          "name": "stdout"
        },
        {
          "output_type": "execute_result",
          "data": {
            "text/plain": [
              "(0.5181620082441062, 0.3360787917959159, 1.4822774313786973)"
            ]
          },
          "metadata": {
            "tags": []
          },
          "execution_count": 21
        },
        {
          "output_type": "display_data",
          "data": {
            "image/png": "[encoded data removed]",
            "text/plain": [
              "<Figure size 432x288 with 1 Axes>"
            ]
          },
          "metadata": {
            "tags": []
          }
        }
      ]
    },
    {
      "cell_type": "code",
      "metadata": {
        "id": "tdxgbDILp8d0",
        "colab": {
          "base_uri": "https://localhost:8080/",
          "height": 374
        },
        "outputId": "0d7df812-0582-4431-8486-c0dd301cc756"
      },
      "source": [
        "# Portfolio Optimization\n",
        "\n",
        "# Calculate the expected returns and the annualized sample covariance matrix of asset returns\n",
        "mu = expected_returns.mean_historical_return(df)\n",
        "S = risk_models.sample_cov(df)\n",
        "\n",
        "# Optimize for maximum sharpe ratio\n",
        "ef = EfficientFrontier(mu,S,weight_bounds=(None,None))\n",
        "ef.add_constraint(lambda w: w[0]+w[1]+w[2]+w[3] == 1)\n",
        "# 100 portfolios with risks between 0.10 and 0.30\n",
        "risk_range = np.linspace(0.30, 0.80, 1000)\n",
        "plotting.plot_efficient_frontier(ef, ef_param=\"risk\", ef_param_range=risk_range,show_assets=True, showfig=True)\n",
        "weights = ef.max_sharpe()\n",
        "cleaned_weights = ef.clean_weights() \n",
        "print(cleaned_weights)\n",
        "ef.portfolio_performance(verbose=True)\n"
      ],
      "execution_count": null,
      "outputs": [
        {
          "output_type": "display_data",
          "data": {
            "image/png": "[encoded data removed]",
            "text/plain": [
              "<Figure size 432x288 with 1 Axes>"
            ]
          },
          "metadata": {
            "tags": []
          }
        },
        {
          "output_type": "stream",
          "text": [
            "OrderedDict([('AMD', 0.31085), ('NFLX', 0.33717), ('AAPL', 0.29553), ('GOOG', 0.05646)])\n",
            "Expected annual return: 51.8%\n",
            "Annual volatility: 33.6%\n",
            "Sharpe Ratio: 1.48\n"
          ],
          "name": "stdout"
        },
        {
          "output_type": "execute_result",
          "data": {
            "text/plain": [
              "(0.5181620082441062, 0.3360787917959159, 1.4822774313786973)"
            ]
          },
          "metadata": {
            "tags": []
          },
          "execution_count": 22
        }
      ]
    },
    {
      "cell_type": "code",
      "metadata": {
        "colab": {
          "base_uri": "https://localhost:8080/",
          "height": 289
        },
        "id": "yv10bRAIGiQd",
        "outputId": "1fe498cf-f7e1-4aaa-d9b2-0af7933925c6"
      },
      "source": [
        "# Calculate the expected returns and the annualized sample covariance matrix of asset returns\n",
        "mu = expected_returns.mean_historical_return(df)\n",
        "S = risk_models.sample_cov(df)\n",
        "\n",
        "# Optimize for maximum sharpe ratio\n",
        "ef = EfficientFrontier(mu,S,weight_bounds=(None,None))\n",
        "ef.add_constraint(lambda w: w[0]+w[1]+w[2]+w[3] == 1)\n",
        "\n",
        "fig, ax = plt.subplots()\n",
        "plotting.plot_efficient_frontier(ef, ax=ax, show_assets=False)\n",
        "\n",
        "# Find the tangency portfolio\n",
        "ef.max_sharpe()\n",
        "ret_tangent, std_tangent, _ = ef.portfolio_performance()\n",
        "ax.scatter(std_tangent, ret_tangent, marker=\"*\", s=100, c=\"r\", label=\"Max Sharpe\")\n",
        "\n",
        "# Generate random portfolios\n",
        "n_samples = 10000\n",
        "w = np.random.dirichlet(np.ones(len(mu)), n_samples)\n",
        "rets = w.dot(mu)\n",
        "stds = np.sqrt(np.diag(w @ S @ w.T))\n",
        "sharpes = rets / stds\n",
        "ax.scatter(stds, rets, marker=\".\", c=sharpes, cmap=\"viridis_r\")\n",
        "\n",
        "# Output\n",
        "ax.set_title(\"Efficient Frontier with random portfolios\")\n",
        "ax.legend()\n",
        "plt.tight_layout()\n",
        "plt.savefig(\"ef_scatter.png\", dpi=200)\n",
        "plt.show()"
      ],
      "execution_count": null,
      "outputs": [
        {
          "output_type": "display_data",
          "data": {
            "image/png": "[encoded data removed]",
            "text/plain": [
              "<Figure size 432x288 with 1 Axes>"
            ]
          },
          "metadata": {
            "tags": []
          }
        }
      ]
    },
    {
      "cell_type": "code",
      "metadata": {
        "id": "5EUObGjQHElk"
      },
      "source": [
        ""
      ],
      "execution_count": null,
      "outputs": []
    }
  ]
}